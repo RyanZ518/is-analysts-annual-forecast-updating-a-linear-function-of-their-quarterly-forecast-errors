# -*- coding: utf-8 -*-
"""
Created on Sat Mar 26 09:22:53 2022

@author: Steph
"""

import pandas as pd
import numpy as np
import statsmodels.api as sm
import statsmodels.formula.api as smf
import seaborn as sns
import matplotlib.pyplot as plt
from scipy.stats.mstats import winsorize
from matplotlib.pyplot import figure
import patsy
import requests
from bs4 import BeautifulSoup

def areg(formula,data=None,absorb=None,cluster=None): 

    y,X = patsy.dmatrices(formula,data,return_type='dataframe')

    ybar = y.mean()
    y = y -  y.groupby(data[absorb]).transform('mean') + ybar

    Xbar = X.mean()
    X = X - X.groupby(data[absorb]).transform('mean') + Xbar

    reg = sm.OLS(y,X)
    # Account for df loss from FE transform
    reg.df_resid -= (data[absorb].nunique() - 1)

    return reg.fit(cov_type='cluster',cov_kwds={'groups':data[cluster].values})

det_epsus = pd.read_csv("det_epsus.csv")
det_epsus.info()
fundq = pd.read_csv("fundq.csv")
fundq.info()

last_quarter_EPS = det_epsus[(det_epsus['FPEDATS'] == 20200331) & (det_epsus['FPI'] == 6) & (det_epsus['ANNDATS'] <= 20200331) & (det_epsus['ANNDATS'] >= 20200101)]
last_quarter_EPS = last_quarter_EPS.sort_values('FPEDATS', ascending = False).drop_duplicates(['TICKER','ANALYS'])
last_quarter_EPS = last_quarter_EPS[['TICKER','ANALYS','VALUE','ACTUAL']]
last_quarter_EPS.rename({'VALUE': 'lqeps', 'TICKER': 'ticker'}, axis='columns', inplace = True)

last_annual_EPS = det_epsus[(det_epsus['FPEDATS'] == 20201231) & (det_epsus['FPI'] == 1) & (det_epsus['ANNDATS'] <= 20200331) & (det_epsus['ANNDATS'] >= 20200101)]
last_annual_EPS = last_annual_EPS.sort_values('FPEDATS', ascending = False).drop_duplicates(['TICKER','ANALYS'])
last_annual_EPS = last_annual_EPS[['TICKER','ANALYS','VALUE','ACTUAL']]
last_annual_EPS.rename({'VALUE': 'laeps','TICKER': 'ticker'}, axis='columns', inplace = True)

first_annual_EPS = det_epsus[(det_epsus['FPEDATS'] == 20201231) & (det_epsus['FPI'] == 1) & (det_epsus['ANNDATS'] <= 20200630)]
first_annual_EPS = fundq.merge(first_annual_EPS, how = "left", left_on = "ticker", right_on = "TICKER", validate = "1:m")
first_annual_EPS = first_annual_EPS[first_annual_EPS['ANNDATS'] >= first_annual_EPS['rdq']]
first_annual_EPS = first_annual_EPS.sort_values('FPEDATS', ascending = True).drop_duplicates(['TICKER','ANALYS'])
first_annual_EPS = first_annual_EPS[['TICKER','ANALYS','VALUE','ACTUAL']]
first_annual_EPS.rename({'VALUE': 'faeps','TICKER': 'ticker'}, axis='columns', inplace = True)


fundq_1 = fundq.merge(last_quarter_EPS, how = "left", on = 'ticker', validate = "1:m")
fundq_1 = fundq_1[['ticker','ANALYS','lqeps','ACTUAL']]
fundq_2 = fundq.merge(last_annual_EPS, how = 'left', on = 'ticker', validate = "1:m")
fundq_2 = fundq_2[['ticker','ANALYS','laeps']]
fundq_3 = fundq.merge(first_annual_EPS, how = 'left', on = 'ticker', validate = "1:m")
fundq_3 = fundq_3[['ticker','ANALYS','faeps']]

fundq_1 = fundq_1.merge(fundq_2, how = 'outer', on = ['ticker','ANALYS'])
fundq_3 = fundq_3.merge(fundq_1, how = 'outer', on = ['ticker','ANALYS'])

# actual_list = []
# for index, item in fundq_3.iterrows():
#     if np.isnan(item['ACTUAL']) == False:
#         actual_list.append(item['ACTUAL'])
#     else:
#         if np.isnan(item['ACTUAL_x']) == False:
#             actual_list.append(item['ACTUAL_x'])
#         else:
#             actual_list.append(item['ACTUAL_y'])            
# fundq_3['ACTUAL'] = actual_list
# fundq_3.drop(['ACTUAL_x','ACTUAL_y'], axis = 1, inplace = True)
df = fundq.merge(fundq_3, how = 'left', on = 'ticker', validate = "1:m")

df['q_error'] = (df['lqeps'] - df['ACTUAL'])/df['atq']*df['cshoq']
df['a_revision'] = (df['laeps'] - df['faeps'])/df['atq']*df['cshoq']
sns.set(rc={'figure.figsize':(20, 15)})
sns.scatterplot(x = 'q_error', y = 'a_revision', data = df)
df = df[df['a_revision'] > -0.6]
df = df[df['q_error'] < 0.25]
sns.scatterplot(x = 'q_error', y = 'a_revision', data = df)
dists = df[['q_error', 'a_revision','ACTUAL','laeps','faeps','lqeps','atq','cshoq']].hist(bins=20, color='blue')

df[['q_error', 'a_revision']].describe()
plt.figure(figsize=(30,10))
df_corr = df[['q_error', 'a_revision','ACTUAL','laeps','faeps','lqeps','atq','cshoq']].corr()
df_corr_filt = df_corr[((df_corr >= .5) | (df_corr <= -.5))]
sns.heatmap(df_corr_filt, annot=True, cmap="Reds")
plt.show()

reg_df = df.dropna()
reg_model = areg('a_revision ~ q_error + atq', data = df,absorb = 'ANALYS', cluster='ANALYS')
reg_model.summary()

indexfile = pd.read_csv("form.idx", on_bad_lines ='skip', sep = '\t')
indexfile.drop([0,1,2,3,4], inplace = True)
indexfile.columns = ['Description']
indexfile = indexfile['Description'].str.split(n = 1, expand = True)
index_df = pd.DataFrame()
index_df['Code'] = indexfile[0]
index_df['Company_Name'] = indexfile[1].str.split(pat = '    ', expand = True)[0]
iter_df = indexfile[1].str.split(pat = '  ', expand = True)

file_list = []

iter_df.fillna('1', inplace = True)
for index, rows in iter_df.iterrows():
    for item in rows:
        if item[0:5] == 'edgar':
            file_list.append(f'https://www.sec.gov/Archives/{item}')   
index_df['path'] = file_list
index_df.merge()

headers = { 'User-Agent': 'Mozilla/5.0', }
date_list = []
num = len('FILED AS OF DATE:		')

for item in file_list:
    r = requests.get(item, stream = True, headers = headers)
    start = r.text.find('FILED AS OF DATE:		') + num
    end = start + 8
    date_list.append(item[start:end])

index_df['path'] = date_list
